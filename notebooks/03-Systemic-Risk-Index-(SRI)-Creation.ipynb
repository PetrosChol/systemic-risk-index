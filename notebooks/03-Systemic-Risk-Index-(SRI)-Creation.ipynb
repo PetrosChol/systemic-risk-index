{
 "cells": [
  {
   "cell_type": "markdown",
   "id": "f60c273a",
   "metadata": {},
   "source": [
    "# Systemic Risk Index (SRI) Creation\n",
    "\n",
    "This notebook constructs the Systemic Risk Index (SRI) by applying Principal Component Analysis (PCA) to a set of key financial stress indicators.\n",
    "\n",
    "The process involves the following steps:\n",
    "\n",
    "1.  **Load Data**: The cleaned, weekly market data from the previous phase is loaded.\n",
    "2.  **Select Inputs**: Three indicators are selected as inputs for the index:\n",
    "    *   `VIX`: CBOE Volatility Index\n",
    "    *   `MOVE`: Merrill Lynch Option Volatility Estimate (Treasury Volatility)\n",
    "    *   `BAMLC0A0CM`: ICE BofA US Corporate Index Effective Yield\n",
    "3.  **Standardize Inputs**: The selected indicators are standardized using `StandardScaler` to convert them to z-scores. This ensures each variable has a mean of 0 and a standard deviation of 1, preventing any single indicator from dominating the analysis due to its scale.\n",
    "4.  **Apply PCA**: Principal Component Analysis is performed on the standardized data to identify the primary axis of shared variance among the indicators.\n",
    "5.  **Extract & Orient PC1**: The first principal component (PC1) is extracted. We then check its component loadings to ensure that a higher index value corresponds to higher risk (e.g., a positive relationship with VIX). If the orientation is inverted, we multiply the component by -1.\n",
    "6.  **Rescale to 0-100**: The final, oriented index is rescaled to a more intuitive 0-100 range using `MinMaxScaler`, where 0 represents the lowest systemic risk in the sample period and 100 represents the highest."
   ]
  },
  {
   "cell_type": "code",
   "execution_count": null,
   "id": "a8fb4702",
   "metadata": {},
   "outputs": [],
   "source": [
    "import pandas as pd\n",
    "from sklearn.preprocessing import StandardScaler, MinMaxScaler\n",
    "from sklearn.decomposition import PCA"
   ]
  },
  {
   "cell_type": "code",
   "execution_count": 3,
   "id": "0b4ead3d",
   "metadata": {},
   "outputs": [],
   "source": [
    "# Load Data\n",
    "df = pd.read_csv(\"../data/cleaned_market_data.csv\", index_col=0, parse_dates=True)"
   ]
  },
  {
   "cell_type": "code",
   "execution_count": null,
   "id": "d4ce8394",
   "metadata": {},
   "outputs": [],
   "source": [
    "# Get some basic information about the DataFrame\n",
    "df.info()"
   ]
  },
  {
   "cell_type": "code",
   "execution_count": null,
   "id": "cc250e62",
   "metadata": {},
   "outputs": [],
   "source": [
    "# STEP 1: Select the data for the index\n",
    "risk_factors = df[[\"VIX\", \"MOVE\", \"BAMLC0A0CMEY\"]]\n",
    "\n",
    "# STEP 2: Standardize the data\n",
    "scaler = StandardScaler()\n",
    "scaled_factors = scaler.fit_transform(risk_factors)\n",
    "\n",
    "# STEP 3: Apply PCA\n",
    "pca = PCA(n_components=1)\n",
    "principal_component = pca.fit_transform(scaled_factors)\n",
    "\n",
    "# STEP 4: Put the new index back into a DataFrame\n",
    "sri_raw = pd.Series(\n",
    "    principal_component.flatten(), index=risk_factors.index, name=\"SRI_raw\"\n",
    ")\n",
    "\n",
    "# STEP 5: Interpretation & Verification\n",
    "# We need to check if our index makes sense. Does high VIX lead to high risk?\n",
    "loadings = pd.Series(pca.components_[0], index=risk_factors.columns)\n",
    "print(\"PCA Component Loadings:\")\n",
    "print(loadings)\n",
    "\n",
    "# STEP 6: Rescale the SRI if needed\n",
    "# If you want to rescale the SRI to a 0-100 range, you can do so using MinMaxScaler\n",
    "min_max_scaler = MinMaxScaler(feature_range=(0, 100))\n",
    "sri_scaled = min_max_scaler.fit_transform(sri_raw.to_numpy().reshape(-1, 1))\n",
    "\n",
    "# Finally, add it to your main DataFrame\n",
    "df[\"SRI\"] = sri_scaled\n",
    "\n",
    "# You can then rescale it to 0-100 for easier dashboarding, but the raw version is what you use for correlation analysis.\n",
    "print(\"\\nFirst 5 values of the new Systemic Risk Index:\")\n",
    "print(df[\"SRI\"].head())"
   ]
  },
  {
   "cell_type": "code",
   "execution_count": 31,
   "id": "e9e2d72f",
   "metadata": {},
   "outputs": [],
   "source": [
    "# Save the updated DataFrame\n",
    "df.to_csv(\"../data/systemic_risk_index.csv\")"
   ]
  }
 ],
 "metadata": {
  "kernelspec": {
   "display_name": "systemic-risk-index",
   "language": "python",
   "name": "python3"
  },
  "language_info": {
   "codemirror_mode": {
    "name": "ipython",
    "version": 3
   },
   "file_extension": ".py",
   "mimetype": "text/x-python",
   "name": "python",
   "nbconvert_exporter": "python",
   "pygments_lexer": "ipython3",
   "version": "3.12.11"
  }
 },
 "nbformat": 4,
 "nbformat_minor": 5
}
