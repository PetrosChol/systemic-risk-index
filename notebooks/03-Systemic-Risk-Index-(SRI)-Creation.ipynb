{
 "cells": [
  {
   "cell_type": "markdown",
   "id": "f60c273a",
   "metadata": {},
   "source": [
    "# Systemic Risk Index (SRI) Creation\n",
    "\n",
    "This notebook constructs the Systemic Risk Index (SRI) by applying Principal Component Analysis (PCA) to a set of key financial stress indicators.\n",
    "\n",
    "The process involves the following steps:\n",
    "\n",
    "1.  **Load Data**: The cleaned, weekly market data from the previous phase is loaded.\n",
    "2.  **Select Inputs**: Three indicators are selected as inputs for the index:\n",
    "    *   `VIX`: CBOE Volatility Index\n",
    "    *   `MOVE`: Merrill Lynch Option Volatility Estimate (Treasury Volatility)\n",
    "    *   `BAMLC0A0CM`: ICE BofA US Corporate Index Effective Yield\n",
    "3.  **Standardize Inputs**: The selected indicators are standardized using `StandardScaler` to convert them to z-scores. This ensures each variable has a mean of 0 and a standard deviation of 1, preventing any single indicator from dominating the analysis due to its scale.\n",
    "4.  **Apply PCA**: Principal Component Analysis is performed on the standardized data to identify the primary axis of shared variance among the indicators.\n",
    "5.  **Extract & Orient PC1**: The first principal component (PC1) is extracted. We then check its component loadings to ensure that a higher index value corresponds to higher risk (e.g., a positive relationship with VIX). If the orientation is inverted, we multiply the component by -1.\n",
    "6.  **Rescale to 0-100**: The final, oriented index is rescaled to a more intuitive 0-100 range using `MinMaxScaler`, where 0 represents the lowest systemic risk in the sample period and 100 represents the highest."
   ]
  },
  {
   "cell_type": "code",
   "execution_count": null,
   "id": "a8fb4702",
   "metadata": {},
   "outputs": [],
   "source": [
    "import pandas as pd\n",
    "from sklearn.preprocessing import StandardScaler, MinMaxScaler\n",
    "from sklearn.decomposition import PCA"
   ]
  },
  {
   "cell_type": "code",
   "execution_count": 3,
   "id": "0b4ead3d",
   "metadata": {},
   "outputs": [],
   "source": [
    "# Load Data\n",
    "df = pd.read_csv(\"../data/cleaned_market_data.csv\", index_col=0, parse_dates=True)"
   ]
  },
  {
   "cell_type": "code",
   "execution_count": 4,
   "id": "23a67deb",
   "metadata": {},
   "outputs": [
    {
     "data": {
      "text/html": [
       "<div>\n",
       "<style scoped>\n",
       "    .dataframe tbody tr th:only-of-type {\n",
       "        vertical-align: middle;\n",
       "    }\n",
       "\n",
       "    .dataframe tbody tr th {\n",
       "        vertical-align: top;\n",
       "    }\n",
       "\n",
       "    .dataframe thead th {\n",
       "        text-align: right;\n",
       "    }\n",
       "</style>\n",
       "<table border=\"1\" class=\"dataframe\">\n",
       "  <thead>\n",
       "    <tr style=\"text-align: right;\">\n",
       "      <th></th>\n",
       "      <th>GLD</th>\n",
       "      <th>SPY</th>\n",
       "      <th>TLT</th>\n",
       "      <th>UUP</th>\n",
       "      <th>MOVE</th>\n",
       "      <th>VIX</th>\n",
       "      <th>T10Y2Y</th>\n",
       "      <th>BAMLC0A0CMEY</th>\n",
       "      <th>USRECP</th>\n",
       "    </tr>\n",
       "  </thead>\n",
       "  <tbody>\n",
       "    <tr>\n",
       "      <th>2007-03-02</th>\n",
       "      <td>63.709999</td>\n",
       "      <td>138.669998</td>\n",
       "      <td>90.199997</td>\n",
       "      <td>24.959999</td>\n",
       "      <td>76.699997</td>\n",
       "      <td>18.610001</td>\n",
       "      <td>-0.04</td>\n",
       "      <td>5.46</td>\n",
       "      <td>0.0</td>\n",
       "    </tr>\n",
       "    <tr>\n",
       "      <th>2007-03-09</th>\n",
       "      <td>64.250000</td>\n",
       "      <td>140.779999</td>\n",
       "      <td>89.400002</td>\n",
       "      <td>25.160000</td>\n",
       "      <td>63.599998</td>\n",
       "      <td>14.090000</td>\n",
       "      <td>-0.07</td>\n",
       "      <td>5.55</td>\n",
       "      <td>0.0</td>\n",
       "    </tr>\n",
       "    <tr>\n",
       "      <th>2007-03-16</th>\n",
       "      <td>64.620003</td>\n",
       "      <td>138.529999</td>\n",
       "      <td>89.849998</td>\n",
       "      <td>24.870001</td>\n",
       "      <td>67.000000</td>\n",
       "      <td>16.790001</td>\n",
       "      <td>-0.03</td>\n",
       "      <td>5.52</td>\n",
       "      <td>0.0</td>\n",
       "    </tr>\n",
       "    <tr>\n",
       "      <th>2007-03-23</th>\n",
       "      <td>65.150002</td>\n",
       "      <td>143.389999</td>\n",
       "      <td>88.790001</td>\n",
       "      <td>24.930000</td>\n",
       "      <td>68.699997</td>\n",
       "      <td>12.950000</td>\n",
       "      <td>0.02</td>\n",
       "      <td>5.58</td>\n",
       "      <td>0.0</td>\n",
       "    </tr>\n",
       "    <tr>\n",
       "      <th>2007-03-30</th>\n",
       "      <td>65.739998</td>\n",
       "      <td>142.000000</td>\n",
       "      <td>88.279999</td>\n",
       "      <td>24.790001</td>\n",
       "      <td>67.900002</td>\n",
       "      <td>14.640000</td>\n",
       "      <td>0.07</td>\n",
       "      <td>5.60</td>\n",
       "      <td>0.0</td>\n",
       "    </tr>\n",
       "  </tbody>\n",
       "</table>\n",
       "</div>"
      ],
      "text/plain": [
       "                  GLD         SPY        TLT        UUP       MOVE        VIX  \\\n",
       "2007-03-02  63.709999  138.669998  90.199997  24.959999  76.699997  18.610001   \n",
       "2007-03-09  64.250000  140.779999  89.400002  25.160000  63.599998  14.090000   \n",
       "2007-03-16  64.620003  138.529999  89.849998  24.870001  67.000000  16.790001   \n",
       "2007-03-23  65.150002  143.389999  88.790001  24.930000  68.699997  12.950000   \n",
       "2007-03-30  65.739998  142.000000  88.279999  24.790001  67.900002  14.640000   \n",
       "\n",
       "            T10Y2Y  BAMLC0A0CMEY  USRECP  \n",
       "2007-03-02   -0.04          5.46     0.0  \n",
       "2007-03-09   -0.07          5.55     0.0  \n",
       "2007-03-16   -0.03          5.52     0.0  \n",
       "2007-03-23    0.02          5.58     0.0  \n",
       "2007-03-30    0.07          5.60     0.0  "
      ]
     },
     "execution_count": 4,
     "metadata": {},
     "output_type": "execute_result"
    }
   ],
   "source": [
    "df.head()"
   ]
  },
  {
   "cell_type": "code",
   "execution_count": 5,
   "id": "d4ce8394",
   "metadata": {},
   "outputs": [
    {
     "name": "stdout",
     "output_type": "stream",
     "text": [
      "<class 'pandas.core.frame.DataFrame'>\n",
      "DatetimeIndex: 959 entries, 2007-03-02 to 2025-07-11\n",
      "Data columns (total 9 columns):\n",
      " #   Column        Non-Null Count  Dtype  \n",
      "---  ------        --------------  -----  \n",
      " 0   GLD           959 non-null    float64\n",
      " 1   SPY           959 non-null    float64\n",
      " 2   TLT           959 non-null    float64\n",
      " 3   UUP           959 non-null    float64\n",
      " 4   MOVE          959 non-null    float64\n",
      " 5   VIX           959 non-null    float64\n",
      " 6   T10Y2Y        959 non-null    float64\n",
      " 7   BAMLC0A0CMEY  959 non-null    float64\n",
      " 8   USRECP        959 non-null    float64\n",
      "dtypes: float64(9)\n",
      "memory usage: 74.9 KB\n"
     ]
    }
   ],
   "source": [
    "df.info()"
   ]
  },
  {
   "cell_type": "code",
   "execution_count": null,
   "id": "cc250e62",
   "metadata": {},
   "outputs": [
    {
     "name": "stdout",
     "output_type": "stream",
     "text": [
      "PCA Component Loadings:\n",
      "VIX             0.517378\n",
      "MOVE            0.626638\n",
      "BAMLC0A0CMEY    0.582791\n",
      "dtype: float64\n",
      "\n",
      "First 5 values of the new Systemic Risk Index:\n",
      "2007-03-02    20.405234\n",
      "2007-03-09    15.742449\n",
      "2007-03-16    17.796485\n",
      "2007-03-23    16.167461\n",
      "2007-03-30    17.062623\n",
      "Name: SRI, dtype: float64\n"
     ]
    }
   ],
   "source": [
    "# STEP 1: Select the data for the index\n",
    "risk_factors = df[[\"VIX\", \"MOVE\", \"BAMLC0A0CMEY\"]]\n",
    "\n",
    "# STEP 2: Standardize the data\n",
    "scaler = StandardScaler()\n",
    "scaled_factors = scaler.fit_transform(risk_factors)\n",
    "\n",
    "# STEP 3: Apply PCA\n",
    "pca = PCA(n_components=1)\n",
    "principal_component = pca.fit_transform(scaled_factors)\n",
    "\n",
    "# STEP 4: Put the new index back into a DataFrame\n",
    "sri_raw = pd.Series(\n",
    "    principal_component.flatten(), index=risk_factors.index, name=\"SRI_raw\"\n",
    ")\n",
    "\n",
    "# STEP 5: Interpretation & Verification\n",
    "# We need to check if our index makes sense. Does high VIX lead to high risk?\n",
    "loadings = pd.Series(pca.components_[0], index=risk_factors.columns)\n",
    "print(\"PCA Component Loadings:\")\n",
    "print(loadings)\n",
    "\n",
    "# STEP 6: Rescale the SRI if needed\n",
    "# If you want to rescale the SRI to a 0-100 range, you can do so using MinMaxScaler\n",
    "min_max_scaler = MinMaxScaler(feature_range=(0, 100))\n",
    "sri_scaled = min_max_scaler.fit_transform(sri_raw.to_numpy().reshape(-1, 1))\n",
    "\n",
    "# Finally, add it to your main DataFrame\n",
    "df[\"SRI\"] = sri_scaled\n",
    "\n",
    "# You can then rescale it to 0-100 for easier dashboarding, but the raw version is what you use for correlation analysis.\n",
    "print(\"\\nFirst 5 values of the new Systemic Risk Index:\")\n",
    "print(df[\"SRI\"].head())"
   ]
  },
  {
   "cell_type": "code",
   "execution_count": 31,
   "id": "e9e2d72f",
   "metadata": {},
   "outputs": [],
   "source": [
    "# Save the updated DataFrame\n",
    "df.to_csv(\"../data/systemic_risk_index.csv\")"
   ]
  }
 ],
 "metadata": {
  "kernelspec": {
   "display_name": "systemic-risk-index",
   "language": "python",
   "name": "python3"
  },
  "language_info": {
   "codemirror_mode": {
    "name": "ipython",
    "version": 3
   },
   "file_extension": ".py",
   "mimetype": "text/x-python",
   "name": "python",
   "nbconvert_exporter": "python",
   "pygments_lexer": "ipython3",
   "version": "3.12.11"
  }
 },
 "nbformat": 4,
 "nbformat_minor": 5
}
