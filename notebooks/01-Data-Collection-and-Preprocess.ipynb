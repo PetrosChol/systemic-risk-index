{
 "cells": [
  {
   "cell_type": "markdown",
   "id": "phase2-markdown",
   "metadata": {},
   "source": [
    "# Data Sourcing & Preprocessing\n",
    "\n",
    "This notebook involves:\n",
    "1.  **Sourcing data** from `yfinance` and `FRED`.\n",
    "2.  **Consolidating** the data into a single pandas DataFrame.\n",
    "3.  **Cleaning** the data by resampling to a weekly frequency and handling missing values.\n",
    "4.  **Saving** the final, cleaned DataFrame to the `/data` directory."
   ]
  },
  {
   "cell_type": "code",
   "execution_count": 1,
   "id": "69d5d9f3",
   "metadata": {},
   "outputs": [
    {
     "data": {
      "text/plain": [
       "True"
      ]
     },
     "execution_count": 1,
     "metadata": {},
     "output_type": "execute_result"
    }
   ],
   "source": [
    "import pandas as pd\n",
    "import yfinance as yf\n",
    "from fredapi import Fred\n",
    "import os\n",
    "import sys\n",
    "from dotenv import load_dotenv\n",
    "\n",
    "load_dotenv()"
   ]
  },
  {
   "cell_type": "markdown",
   "id": "6e60bf76",
   "metadata": {},
   "source": [
    "## Setup: FRED API Key\n",
    "\n",
    "To download data from the Federal Reserve Economic Data (FRED) database, you need a free API key.\n",
    "\n",
    "1.  **Obtain a Key**: Visit the [FRED API Key site](https://fred.stlouisfed.org/docs/api/api_key.html) to request one.\n",
    "2.  **Set Environment Variable**: For security and best practices, save the key as an environment variable named `FRED_API_KEY`. The notebook uses the `dotenv` library to load this variable from a `.env` file in your project's root directory."
   ]
  },
  {
   "cell_type": "code",
   "execution_count": 3,
   "id": "cb652665",
   "metadata": {},
   "outputs": [],
   "source": [
    "api_key = os.environ.get(\"FRED_API_KEY\")\n",
    "fred = Fred(api_key=api_key)"
   ]
  },
  {
   "cell_type": "markdown",
   "id": "2b692489",
   "metadata": {},
   "source": [
    "## 1. Data Sourcing\n",
    "\n",
    "We will source data from two primary locations:\n",
    "*   **Yahoo Finance (`yfinance`)**: For market-based Exchange Traded Funds (ETFs) and volatility indices.\n",
    "*   **Federal Reserve Economic Data (`FRED`)**: For key economic indicators.\n",
    "\n",
    "### Ticker Definitions\n",
    "\n",
    "The following tickers have been selected to provide a comprehensive view of the market environment:\n",
    "\n",
    "*   **`SPY` (S&P 500 ETF)**: Represents the broader US stock market performance.\n",
    "*   **`GLD` (Gold ETF)**: A common safe-haven asset and inflation hedge.\n",
    "*   **`TLT` (20+ Year Treasury Bond ETF)**: Represents long-term US interest rate movements.\n",
    "*   **`UUP` (US Dollar Index Bullish Fund)**: Tracks the value of the US dollar against a basket of foreign currencies.\n",
    "*   **`^VIX` (CBOE Volatility Index)**: The \"fear index,\" measuring expected 30-day volatility of the US stock market.\n",
    "*   **`^MOVE` (ICE BofA MOVE Index)**: Measures volatility in the US Treasury bond market.\n",
    "*   **`T10Y2Y` (10-Year vs. 2-Year Treasury Yield Spread)**: A key indicator of the yield curve, often used to predict economic recessions.\n",
    "*   **`BAMLC0A0CMEY` (ICE BofA US Corporate Index Yield)**: Tracks the yield on US investment-grade corporate bonds.\n",
    "*   **`USRECP` (NBER Recession Indicator)**: A binary indicator (1 for recession, 0 for expansion) from the National Bureau of Economic Research."
   ]
  },
  {
   "cell_type": "code",
   "execution_count": 4,
   "id": "d5ad6fc1",
   "metadata": {},
   "outputs": [
    {
     "name": "stdout",
     "output_type": "stream",
     "text": [
      "Downloading data for: SPY, GLD, TLT, UUP, ^VIX, ^MOVE...\n"
     ]
    },
    {
     "name": "stderr",
     "output_type": "stream",
     "text": [
      "[*********************100%***********************]  6 of 6 completed\n"
     ]
    },
    {
     "name": "stdout",
     "output_type": "stream",
     "text": [
      "yfinance data downloaded successfully.\n",
      "Downloading data for: T10Y2Y, BAMLC0A0CMEY, USRECP...\n",
      "FRED data downloaded successfully.\n"
     ]
    }
   ],
   "source": [
    "# Define tickers for yfinance\n",
    "yf_tickers = [\n",
    "    \"SPY\",  # S&P 500 ETF\n",
    "    \"GLD\",  # Gold ETF\n",
    "    \"TLT\",  # 20+ Year Treasury Bond ETF\n",
    "    \"UUP\",  # US Dollar Index Bullish Fund\n",
    "    \"^VIX\",  # Stock Market Volatility Index\n",
    "    \"^MOVE\",  # Bond Market Volatility Index\n",
    "]\n",
    "\n",
    "# Define series IDs for FRED\n",
    "fred_tickers = {\n",
    "    \"T10Y2Y\": \"T10Y2Y\",  # 10Y-2Y Yield Curve Spread\n",
    "    \"BAMLC0A0CMEY\": \"BAMLC0A0CMEY\",  # US Corporate Bond Yield\n",
    "    \"USRECP\": \"USRECP\",  # NBER Recession Indicator\n",
    "}\n",
    "\n",
    "# Download data using yfinance\n",
    "print(f\"Downloading data for: {', '.join(yf_tickers)}...\")\n",
    "try:\n",
    "    yf_data = yf.download(yf_tickers, start=\"2000-01-01\", auto_adjust=False)[\"Close\"]  # type: ignore\n",
    "    # Check if the download returned an empty dataframe, which can happen with errors\n",
    "    if yf_data.empty:\n",
    "        raise ValueError(\n",
    "            \"yfinance returned an empty DataFrame. Check tickers or network connection.\"\n",
    "        )\n",
    "except Exception as e:\n",
    "    print(f\"An error occurred during yfinance download: {e}\")\n",
    "    # Exit or handle the error appropriately. Exiting is often safest in a data pipeline.\n",
    "    sys.exit(\"Stopping execution due to data download failure.\")\n",
    "\n",
    "print(\"yfinance data downloaded successfully.\")\n",
    "\n",
    "\n",
    "# Download data using fredapi\n",
    "print(f\"Downloading data for: {', '.join(fred_tickers.keys())}...\")\n",
    "fred_data = pd.DataFrame()\n",
    "for key, series_id in fred_tickers.items():\n",
    "    fred_data[key] = fred.get_series(series_id, start=\"2000-01-01\")\n",
    "print(\"FRED data downloaded successfully.\")"
   ]
  },
  {
   "cell_type": "markdown",
   "id": "785ad071",
   "metadata": {},
   "source": [
    "## 2. Data Consolidation and Cleaning\n",
    "\n",
    "Once sourced, the data from `yfinance` and `FRED` is combined into a single time-series DataFrame. The following preprocessing steps are then applied:\n",
    "\n",
    "1.  **Consolidation**: The two datasets are merged based on their date index. An `outer` join is used to ensure no data is lost if dates don't perfectly align.\n",
    "2.  **Resampling to Weekly Frequency**: Financial data is noisy. To focus on meaningful trends, we resample the daily data to a weekly frequency (`'W-FRI'`), taking the last recorded value of each week (Friday).\n",
    "3.  **Forward Fill Missing Values**: Not all markets are open on the same days, and some data is released less frequently. We use forward-fill (`ffill`) to propagate the last known value forward, ensuring a complete time series.\n",
    "4.  **Drop Initial NaNs**: Any remaining `NaN` values, which typically occur at the beginning of the dataset before all series have started, are dropped."
   ]
  },
  {
   "cell_type": "code",
   "execution_count": 5,
   "id": "phase2-code",
   "metadata": {},
   "outputs": [
    {
     "name": "stdout",
     "output_type": "stream",
     "text": [
      "Data consolidation and cleaning complete.\n"
     ]
    }
   ],
   "source": [
    "# Combine the two dataframes\n",
    "all_data = pd.concat([yf_data, fred_data], axis=1, join=\"outer\")\n",
    "\n",
    "# Normalize all data to a weekly frequency, taking the last value of the week (Friday)\n",
    "weekly_data = all_data.resample(\"W-FRI\").last()\n",
    "\n",
    "# Handle missing values - a common issue with financial data\n",
    "weekly_data.ffill(inplace=True)\n",
    "\n",
    "# It's good practice to drop any remaining NaNs, which might be at the very beginning\n",
    "weekly_data.dropna(inplace=True)\n",
    "\n",
    "print(\"Data consolidation and cleaning complete.\")"
   ]
  },
  {
   "cell_type": "markdown",
   "id": "de8f0871",
   "metadata": {},
   "source": [
    "## 3. Save the Final DataFrame"
   ]
  },
  {
   "cell_type": "code",
   "execution_count": 6,
   "id": "46517f4f",
   "metadata": {},
   "outputs": [
    {
     "name": "stdout",
     "output_type": "stream",
     "text": [
      "Final, cleaned data saved to: ../data\\cleaned_market_data.csv\n",
      "\n",
      "--- Final DataFrame ---\n",
      "Date Range: 2007-03-02 to 2025-07-18\n",
      "Shape: (960, 9)\n",
      "\n",
      "Head:\n",
      "                  GLD         SPY        TLT        UUP      ^MOVE       ^VIX  \\\n",
      "2007-03-02  63.709999  138.669998  90.199997  24.959999  76.699997  18.610001   \n",
      "2007-03-09  64.250000  140.779999  89.400002  25.160000  63.599998  14.090000   \n",
      "2007-03-16  64.620003  138.529999  89.849998  24.870001  67.000000  16.790001   \n",
      "2007-03-23  65.150002  143.389999  88.790001  24.930000  68.699997  12.950000   \n",
      "2007-03-30  65.739998  142.000000  88.279999  24.790001  67.900002  14.640000   \n",
      "\n",
      "            T10Y2Y  BAMLC0A0CMEY  USRECP  \n",
      "2007-03-02   -0.04          5.46     0.0  \n",
      "2007-03-09   -0.07          5.55     0.0  \n",
      "2007-03-16   -0.03          5.52     0.0  \n",
      "2007-03-23    0.02          5.58     0.0  \n",
      "2007-03-30    0.07          5.60     0.0  \n",
      "\n",
      "Tail:\n",
      "                   GLD         SPY        TLT        UUP      ^MOVE  \\\n",
      "2025-06-20  310.130005  594.280029  86.489998  27.400000  90.099998   \n",
      "2025-06-27  301.220001  614.909973  87.389999  27.020000  87.930000   \n",
      "2025-07-04  307.140015  625.340027  86.970001  26.980000  86.089996   \n",
      "2025-07-11  309.140015  623.619995  85.790001  27.219999  85.480003   \n",
      "2025-07-18  308.010010  624.809998  85.610001  27.290001  90.730003   \n",
      "\n",
      "                 ^VIX  T10Y2Y  BAMLC0A0CMEY  USRECP  \n",
      "2025-06-20  20.620001    0.48          5.18     0.0  \n",
      "2025-06-27  16.320000    0.56          5.07     0.0  \n",
      "2025-07-04  16.379999    0.47          5.07     0.0  \n",
      "2025-07-11  16.400000    0.53          5.15     0.0  \n",
      "2025-07-18  16.850000    0.53          5.15     0.0  \n",
      "\n",
      "Data Types and Non-Null Values:\n",
      "<class 'pandas.core.frame.DataFrame'>\n",
      "DatetimeIndex: 960 entries, 2007-03-02 to 2025-07-18\n",
      "Freq: W-FRI\n",
      "Data columns (total 9 columns):\n",
      " #   Column        Non-Null Count  Dtype  \n",
      "---  ------        --------------  -----  \n",
      " 0   GLD           960 non-null    float64\n",
      " 1   SPY           960 non-null    float64\n",
      " 2   TLT           960 non-null    float64\n",
      " 3   UUP           960 non-null    float64\n",
      " 4   ^MOVE         960 non-null    float64\n",
      " 5   ^VIX          960 non-null    float64\n",
      " 6   T10Y2Y        960 non-null    float64\n",
      " 7   BAMLC0A0CMEY  960 non-null    float64\n",
      " 8   USRECP        960 non-null    float64\n",
      "dtypes: float64(9)\n",
      "memory usage: 75.0 KB\n"
     ]
    }
   ],
   "source": [
    "# Create the data directory if it doesn't exist\n",
    "data_dir = \"../data\"\n",
    "if not os.path.exists(data_dir):\n",
    "    os.makedirs(data_dir)\n",
    "\n",
    "# Save the cleaned data to a CSV file for easy access in the next phase\n",
    "output_path = os.path.join(data_dir, \"cleaned_market_data.csv\")\n",
    "weekly_data.to_csv(output_path)\n",
    "\n",
    "print(f\"Final, cleaned data saved to: {output_path}\")\n",
    "\n",
    "\n",
    "# --- 4. Inspect the Results ---\n",
    "\n",
    "print(\"\\n--- Final DataFrame ---\")\n",
    "print(\n",
    "    f\"Date Range: {weekly_data.index.min().date()} to {weekly_data.index.max().date()}\"\n",
    ")\n",
    "print(f\"Shape: {weekly_data.shape}\")\n",
    "print(\"\\nHead:\")\n",
    "print(weekly_data.head())\n",
    "print(\"\\nTail:\")\n",
    "print(weekly_data.tail())\n",
    "print(\"\\nData Types and Non-Null Values:\")\n",
    "weekly_data.info()"
   ]
  },
  {
   "cell_type": "code",
   "execution_count": null,
   "id": "f7f4db61",
   "metadata": {},
   "outputs": [],
   "source": []
  }
 ],
 "metadata": {
  "kernelspec": {
   "display_name": "systemic-risk-index",
   "language": "python",
   "name": "python3"
  },
  "language_info": {
   "codemirror_mode": {
    "name": "ipython",
    "version": 3
   },
   "file_extension": ".py",
   "mimetype": "text/x-python",
   "name": "python",
   "nbconvert_exporter": "python",
   "pygments_lexer": "ipython3",
   "version": "3.12.11"
  }
 },
 "nbformat": 4,
 "nbformat_minor": 5
}
